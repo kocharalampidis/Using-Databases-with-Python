{
 "cells": [
  {
   "cell_type": "code",
   "execution_count": 1,
   "metadata": {},
   "outputs": [],
   "source": [
    "import sqlite3\n"
   ]
  },
  {
   "cell_type": "code",
   "execution_count": 11,
   "metadata": {},
   "outputs": [],
   "source": [
    "# create connection with db\n",
    "conn = sqlite3.connect('emaildb.sqlite')\n",
    "\n",
    "# create handler for db\n",
    "cur = conn.cursor()\n"
   ]
  },
  {
   "cell_type": "code",
   "execution_count": 16,
   "metadata": {},
   "outputs": [
    {
     "data": {
      "text/plain": [
       "<sqlite3.Cursor at 0x7f19618b9030>"
      ]
     },
     "execution_count": 16,
     "metadata": {},
     "output_type": "execute_result"
    }
   ],
   "source": [
    "# cur.execute('''\n",
    "# DROP TABLE IF EXISTS Counts''')"
   ]
  },
  {
   "cell_type": "code",
   "execution_count": 12,
   "metadata": {
    "scrolled": false
   },
   "outputs": [
    {
     "data": {
      "text/plain": [
       "<sqlite3.Cursor at 0x7f058b70be30>"
      ]
     },
     "execution_count": 12,
     "metadata": {},
     "output_type": "execute_result"
    }
   ],
   "source": [
    "# create table Counts\n",
    "cur.execute('''\n",
    "CREATE TABLE Counts (org TEXT, count INTERGER)''')"
   ]
  },
  {
   "cell_type": "code",
   "execution_count": 157,
   "metadata": {},
   "outputs": [],
   "source": [
    "# read from mbox.txt the raw data, given by the course\n",
    "# write in csv only emails\n",
    "fname = 'mbox.txt'\n",
    "fh = open(fname)\n",
    "\n",
    "# create a new csv in order to config and analyze the raw data\n",
    "fw = open(\"demofile3.csv\", \"w\")\n",
    "\n",
    "for line in fh:\n",
    "    if not line.startswith('From: '): continue\n",
    "    pieces = line.split()\n",
    "    email = pieces[1].split(\"@\") # splitting the domain from emails in order he number of\n",
    "                                 #email messages per organization\n",
    "    \n",
    "    fw.write(email[1])\n",
    "    fw.write(\"\\n\")\n"
   ]
  },
  {
   "cell_type": "code",
   "execution_count": 59,
   "metadata": {},
   "outputs": [],
   "source": [
    "# close the r/w streams\n",
    "fh.close()\n",
    "fw.close()"
   ]
  },
  {
   "cell_type": "code",
   "execution_count": 60,
   "metadata": {},
   "outputs": [],
   "source": [
    "import pandas as pd"
   ]
  },
  {
   "cell_type": "code",
   "execution_count": 116,
   "metadata": {},
   "outputs": [
    {
     "data": {
      "text/html": [
       "<div>\n",
       "<style scoped>\n",
       "    .dataframe tbody tr th:only-of-type {\n",
       "        vertical-align: middle;\n",
       "    }\n",
       "\n",
       "    .dataframe tbody tr th {\n",
       "        vertical-align: top;\n",
       "    }\n",
       "\n",
       "    .dataframe thead th {\n",
       "        text-align: right;\n",
       "    }\n",
       "</style>\n",
       "<table border=\"1\" class=\"dataframe\">\n",
       "  <thead>\n",
       "    <tr style=\"text-align: right;\">\n",
       "      <th></th>\n",
       "      <th>emails</th>\n",
       "    </tr>\n",
       "  </thead>\n",
       "  <tbody>\n",
       "    <tr>\n",
       "      <th>0</th>\n",
       "      <td>uct.ac.za</td>\n",
       "    </tr>\n",
       "    <tr>\n",
       "      <th>1</th>\n",
       "      <td>media.berkeley.edu</td>\n",
       "    </tr>\n",
       "    <tr>\n",
       "      <th>2</th>\n",
       "      <td>umich.edu</td>\n",
       "    </tr>\n",
       "    <tr>\n",
       "      <th>3</th>\n",
       "      <td>iupui.edu</td>\n",
       "    </tr>\n",
       "    <tr>\n",
       "      <th>4</th>\n",
       "      <td>umich.edu</td>\n",
       "    </tr>\n",
       "  </tbody>\n",
       "</table>\n",
       "</div>"
      ],
      "text/plain": [
       "               emails\n",
       "0           uct.ac.za\n",
       "1  media.berkeley.edu\n",
       "2           umich.edu\n",
       "3           iupui.edu\n",
       "4           umich.edu"
      ]
     },
     "execution_count": 116,
     "metadata": {},
     "output_type": "execute_result"
    }
   ],
   "source": [
    "# create a pandas Dataframe to count mails per organization\n",
    "# and push the data to a db\n",
    "df = pd.read_csv(\"demofile3.csv\", names=['emails'])\n",
    "df.head()"
   ]
  },
  {
   "cell_type": "code",
   "execution_count": 118,
   "metadata": {},
   "outputs": [],
   "source": [
    "counts = df.groupby(['emails']).size()\n"
   ]
  },
  {
   "cell_type": "code",
   "execution_count": 125,
   "metadata": {},
   "outputs": [],
   "source": [
    "counts.to_csv(\"counts.csv\", header=False)"
   ]
  },
  {
   "cell_type": "code",
   "execution_count": 139,
   "metadata": {},
   "outputs": [],
   "source": [
    "fname = 'counts.csv'\n",
    "fh = open(fname)\n",
    "\n",
    "for line in fh:\n",
    "    p = line.split(\",\")\n",
    "    row = cur.fetchone()\n",
    "    if row is None:\n",
    "        cur.execute('''INSERT INTO Counts (org, count)\n",
    "                VALUES (?, ?)''', (p[0], p[1]))\n",
    "    conn.commit()"
   ]
  },
  {
   "cell_type": "code",
   "execution_count": 147,
   "metadata": {
    "collapsed": true
   },
   "outputs": [
    {
     "name": "stdout",
     "output_type": "stream",
     "text": [
      "('iupui.edu', 536)\n",
      "('umich.edu', 491)\n",
      "('indiana.edu', 178)\n",
      "('caret.cam.ac.uk', 157)\n",
      "('vt.edu', 110)\n",
      "('uct.ac.za', 96)\n",
      "('media.berkeley.edu', 56)\n",
      "('ufp.pt', 28)\n",
      "('gmail.com', 25)\n",
      "('et.gatech.edu', 17)\n",
      "('txstate.edu', 17)\n",
      "('whitman.edu', 17)\n",
      "('bu.edu', 14)\n",
      "('lancaster.ac.uk', 14)\n",
      "('stanford.edu', 12)\n",
      "('loi.nl', 9)\n",
      "('unicon.net', 9)\n",
      "('rsmart.com', 8)\n",
      "('fhda.edu', 1)\n",
      "('ucdavis.edu', 1)\n",
      "('utoronto.ca', 1)\n"
     ]
    }
   ],
   "source": [
    "sqlstr = 'SELECT * FROM Counts ORDER BY count DESC'\n",
    "row = cur.fetchone()\n",
    "for row in cur.execute(sqlstr):\n",
    "    print(row)\n",
    "\n"
   ]
  },
  {
   "cell_type": "code",
   "execution_count": 148,
   "metadata": {},
   "outputs": [],
   "source": [
    "cur.close()\n"
   ]
  },
  {
   "cell_type": "code",
   "execution_count": null,
   "metadata": {},
   "outputs": [],
   "source": []
  },
  {
   "cell_type": "code",
   "execution_count": null,
   "metadata": {},
   "outputs": [],
   "source": []
  },
  {
   "cell_type": "code",
   "execution_count": null,
   "metadata": {},
   "outputs": [],
   "source": []
  },
  {
   "cell_type": "code",
   "execution_count": null,
   "metadata": {},
   "outputs": [],
   "source": []
  },
  {
   "cell_type": "code",
   "execution_count": null,
   "metadata": {
    "scrolled": true
   },
   "outputs": [],
   "source": []
  }
 ],
 "metadata": {
  "kernelspec": {
   "display_name": "Python 3",
   "language": "python",
   "name": "python3"
  },
  "language_info": {
   "codemirror_mode": {
    "name": "ipython",
    "version": 3
   },
   "file_extension": ".py",
   "mimetype": "text/x-python",
   "name": "python",
   "nbconvert_exporter": "python",
   "pygments_lexer": "ipython3",
   "version": "3.7.6"
  }
 },
 "nbformat": 4,
 "nbformat_minor": 4
}
